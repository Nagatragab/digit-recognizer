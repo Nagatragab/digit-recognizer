{
 "cells": [
  {
   "cell_type": "code",
   "execution_count": 1,
   "id": "2a53a9af",
   "metadata": {},
   "outputs": [
    {
     "name": "stdout",
     "output_type": "stream",
     "text": [
      "Train shape: (42000, 785)\n",
      "Test shape: (28000, 784)\n",
      "   label  pixel0  pixel1  pixel2  pixel3  pixel4  pixel5  pixel6  pixel7  \\\n",
      "0      1       0       0       0       0       0       0       0       0   \n",
      "1      0       0       0       0       0       0       0       0       0   \n",
      "2      1       0       0       0       0       0       0       0       0   \n",
      "3      4       0       0       0       0       0       0       0       0   \n",
      "4      0       0       0       0       0       0       0       0       0   \n",
      "\n",
      "   pixel8  ...  pixel774  pixel775  pixel776  pixel777  pixel778  pixel779  \\\n",
      "0       0  ...         0         0         0         0         0         0   \n",
      "1       0  ...         0         0         0         0         0         0   \n",
      "2       0  ...         0         0         0         0         0         0   \n",
      "3       0  ...         0         0         0         0         0         0   \n",
      "4       0  ...         0         0         0         0         0         0   \n",
      "\n",
      "   pixel780  pixel781  pixel782  pixel783  \n",
      "0         0         0         0         0  \n",
      "1         0         0         0         0  \n",
      "2         0         0         0         0  \n",
      "3         0         0         0         0  \n",
      "4         0         0         0         0  \n",
      "\n",
      "[5 rows x 785 columns]\n"
     ]
    }
   ],
   "source": [
    "import pandas as pd\n",
    "\n",
    "# مسار الفولدر\n",
    "path = r\"D:\\manga\\MACHINE,DEEP LEARNING\\IBM\\projects kaggle\\1. مشاريع أساسية لإظهار المهارات التأسيسية\\4. Digit Recognizer\\digit recognizer files\"\n",
    "\n",
    "# قراءة البيانات\n",
    "train = pd.read_csv(path + r\"\\train.csv\")\n",
    "test = pd.read_csv(path + r\"\\test.csv\")\n",
    "\n",
    "# عرض شكل البيانات\n",
    "print(\"Train shape:\", train.shape)\n",
    "print(\"Test shape:\", test.shape)\n",
    "\n",
    "# أول 5 صفوف من train\n",
    "print(train.head())\n"
   ]
  },
  {
   "cell_type": "code",
   "execution_count": 2,
   "id": "8fd916cb",
   "metadata": {},
   "outputs": [
    {
     "name": "stdout",
     "output_type": "stream",
     "text": [
      "X_train shape: (42000, 28, 28, 1)\n",
      "y_train shape: (42000,)\n"
     ]
    }
   ],
   "source": [
    "import numpy as np\n",
    "\n",
    "# 1️⃣ فصل الـ labels\n",
    "X_train = train.drop(\"label\", axis=1).values   # بيانات البكسلات\n",
    "y_train = train[\"label\"].values                # الأرقام (التصنيف)\n",
    "\n",
    "# 2️⃣ إعادة التطبيع Normalization\n",
    "X_train = X_train / 255.0\n",
    "\n",
    "# 3️⃣ تغيير الشكل إلى (عدد_الصور, 28, 28, 1)\n",
    "X_train = X_train.reshape(-1, 28, 28, 1)\n",
    "\n",
    "print(\"X_train shape:\", X_train.shape)\n",
    "print(\"y_train shape:\", y_train.shape)\n"
   ]
  },
  {
   "cell_type": "code",
   "execution_count": 7,
   "id": "02882c51",
   "metadata": {},
   "outputs": [
    {
     "name": "stdout",
     "output_type": "stream",
     "text": [
      "y_train_cat shape: (42000, 10)\n"
     ]
    }
   ],
   "source": [
    "from sklearn.preprocessing import OneHotEncoder\n",
    "import numpy as np\n",
    "\n",
    "encoder = OneHotEncoder(sparse_output=False)\n",
    "y_train_cat = encoder.fit_transform(y_train.reshape(-1, 1))\n",
    "\n",
    "print(\"y_train_cat shape:\", y_train_cat.shape)\n"
   ]
  },
  {
   "cell_type": "code",
   "execution_count": 18,
   "id": "27e19f6e",
   "metadata": {},
   "outputs": [
    {
     "name": "stdout",
     "output_type": "stream",
     "text": [
      "Shapes after split:\n",
      "X_tr: (37800, 28, 28, 1) X_val: (4200, 28, 28, 1)\n",
      "y_tr: (37800, 10) y_val: (4200, 10)\n"
     ]
    }
   ],
   "source": [
    "import numpy as np\n",
    "from sklearn.model_selection import train_test_split\n",
    "\n",
    "# افتراض: X_train و y_train_cat جاهزين\n",
    "try:\n",
    "    stratify_labels = y_train       # لو y_train (labels أرقام) متوفر\n",
    "except NameError:\n",
    "    stratify_labels = np.argmax(y_train_cat, axis=1)  # لو عندنا one-hot فقط\n",
    "\n",
    "X_tr, X_val, y_tr, y_val = train_test_split(\n",
    "    X_train, y_train_cat, test_size=0.10, random_state=42, stratify=stratify_labels\n",
    ")\n",
    "\n",
    "print(\"Shapes after split:\")\n",
    "print(\"X_tr:\", X_tr.shape, \"X_val:\", X_val.shape)\n",
    "print(\"y_tr:\", y_tr.shape, \"y_val:\", y_val.shape)\n"
   ]
  },
  {
   "cell_type": "code",
   "execution_count": 19,
   "id": "dc1c8b91",
   "metadata": {},
   "outputs": [
    {
     "name": "stdout",
     "output_type": "stream",
     "text": [
      "TensorFlow NOT found. Falling back to sklearn MLP.\n"
     ]
    }
   ],
   "source": [
    "try:\n",
    "    import tensorflow as tf\n",
    "    tf_installed = True\n",
    "    print(\"TensorFlow detected. Building CNN model...\")\n",
    "except Exception as e:\n",
    "    tf_installed = False\n",
    "    print(\"TensorFlow NOT found. Falling back to sklearn MLP.\")\n"
   ]
  },
  {
   "cell_type": "code",
   "execution_count": 20,
   "id": "4cc6f61f",
   "metadata": {},
   "outputs": [
    {
     "name": "stdout",
     "output_type": "stream",
     "text": [
      "Training sklearn MLP (this may take a while)...\n",
      "Iteration 1, loss = 0.37185673\n",
      "Validation score: 0.946296\n",
      "Iteration 2, loss = 0.13003695\n",
      "Validation score: 0.964815\n",
      "Iteration 3, loss = 0.08278420\n",
      "Validation score: 0.972222\n",
      "Iteration 4, loss = 0.05454288\n",
      "Validation score: 0.974868\n",
      "Iteration 5, loss = 0.03890430\n",
      "Validation score: 0.977249\n",
      "Iteration 6, loss = 0.02896186\n",
      "Validation score: 0.975926\n",
      "Iteration 7, loss = 0.01935972\n",
      "Validation score: 0.977513\n",
      "Iteration 8, loss = 0.01350797\n",
      "Validation score: 0.976190\n",
      "Iteration 9, loss = 0.01432083\n",
      "Validation score: 0.977249\n",
      "Iteration 10, loss = 0.00700621\n",
      "Validation score: 0.977249\n",
      "Iteration 11, loss = 0.00496533\n",
      "Validation score: 0.980159\n",
      "Iteration 12, loss = 0.00301884\n",
      "Validation score: 0.979101\n",
      "Iteration 13, loss = 0.00177734\n",
      "Validation score: 0.982804\n",
      "Iteration 14, loss = 0.00110922\n",
      "Validation score: 0.982540\n",
      "Iteration 15, loss = 0.00083236\n",
      "Validation score: 0.981481\n",
      "Iteration 16, loss = 0.00073870\n",
      "Validation score: 0.982011\n",
      "Iteration 17, loss = 0.00068164\n",
      "Validation score: 0.982011\n",
      "Iteration 18, loss = 0.00062165\n",
      "Validation score: 0.982275\n",
      "Iteration 19, loss = 0.00058355\n",
      "Validation score: 0.982540\n",
      "Iteration 20, loss = 0.00055576\n",
      "Validation score: 0.982275\n",
      "Iteration 21, loss = 0.00052484\n",
      "Validation score: 0.981746\n",
      "Validation score did not improve more than tol=0.000100 for 7 consecutive epochs. Stopping.\n",
      "Validation accuracy (sklearn MLP): 0.9798\n"
     ]
    }
   ],
   "source": [
    "from sklearn.neural_network import MLPClassifier\n",
    "\n",
    "# Flatten input\n",
    "X_tr_flat = X_tr.reshape(X_tr.shape[0], -1)\n",
    "X_val_flat = X_val.reshape(X_val.shape[0], -1)\n",
    "\n",
    "# تحويل labels من one-hot لأرقام\n",
    "y_tr_labels = np.argmax(y_tr, axis=1) if y_tr.ndim > 1 else y_tr\n",
    "y_val_labels = np.argmax(y_val, axis=1) if y_val.ndim > 1 else y_val\n",
    "\n",
    "mlp = MLPClassifier(\n",
    "    hidden_layer_sizes=(512, 256),\n",
    "    activation='relu',\n",
    "    batch_size=256,\n",
    "    early_stopping=True,\n",
    "    n_iter_no_change=7,\n",
    "    max_iter=50,\n",
    "    verbose=True,\n",
    "    random_state=42\n",
    ")\n",
    "\n",
    "print(\"Training sklearn MLP (this may take a while)...\")\n",
    "mlp.fit(X_tr_flat, y_tr_labels)\n",
    "\n",
    "val_score = mlp.score(X_val_flat, y_val_labels)\n",
    "print(f\"Validation accuracy (sklearn MLP): {val_score:.4f}\")\n"
   ]
  },
  {
   "cell_type": "code",
   "execution_count": 21,
   "id": "6889f890",
   "metadata": {},
   "outputs": [
    {
     "name": "stdout",
     "output_type": "stream",
     "text": [
      "Shape of predictions: (28000,)\n",
      "First 10 predictions: [2 0 9 9 3 7 0 3 0 3]\n"
     ]
    }
   ],
   "source": [
    "# تجهيز بيانات الاختبار (زي ما عملنا للـ training)\n",
    "X_test_mlp = X_test.reshape(len(X_test), -1)\n",
    "\n",
    "# التنبؤ بالـ labels\n",
    "y_pred = mlp.predict(X_test_mlp)\n",
    "\n",
    "print(\"Shape of predictions:\", y_pred.shape)\n",
    "print(\"First 10 predictions:\", y_pred[:10])\n"
   ]
  },
  {
   "cell_type": "code",
   "execution_count": 25,
   "id": "71c98f5b",
   "metadata": {},
   "outputs": [
    {
     "name": "stdout",
     "output_type": "stream",
     "text": [
      "🚀 Running Grid Search...\n",
      "Fitting 3 folds for each of 24 candidates, totalling 72 fits\n"
     ]
    },
    {
     "name": "stderr",
     "output_type": "stream",
     "text": [
      "c:\\Users\\user\\AppData\\Local\\Programs\\Python\\Python312\\Lib\\site-packages\\sklearn\\neural_network\\_multilayer_perceptron.py:691: ConvergenceWarning: Stochastic Optimizer: Maximum iterations (30) reached and the optimization hasn't converged yet.\n",
      "  warnings.warn(\n"
     ]
    },
    {
     "name": "stdout",
     "output_type": "stream",
     "text": [
      "✅ Best Params: {'activation': 'relu', 'batch_size': 128, 'hidden_layer_sizes': (512, 256), 'learning_rate_init': 0.001, 'solver': 'adam'}\n",
      "✅ Best CV Score: 0.9752116402116403\n",
      "Shape of predictions: (28000,)\n",
      "First 10 predictions: [2 0 9 9 3 7 0 3 0 3]\n"
     ]
    }
   ],
   "source": [
    "import os\n",
    "import numpy as np\n",
    "import pandas as pd\n",
    "from sklearn.model_selection import GridSearchCV\n",
    "from sklearn.neural_network import MLPClassifier\n",
    "\n",
    "# --- 1) Flatten input (لأن sklearn MLP ما يقبلش الصور 28x28 مباشرة) ---\n",
    "X_tr_flat = X_tr.reshape(X_tr.shape[0], -1)\n",
    "X_val_flat = X_val.reshape(X_val.shape[0], -1)\n",
    "\n",
    "y_tr_labels = np.argmax(y_tr, axis=1) if y_tr.ndim > 1 else y_tr\n",
    "y_val_labels = np.argmax(y_val, axis=1) if y_val.ndim > 1 else y_val\n",
    "\n",
    "# --- 2) نجهز Grid Search ---\n",
    "param_grid = {\n",
    "    \"hidden_layer_sizes\": [(128, 64), (256, 128), (512, 256)],\n",
    "    \"activation\": [\"relu\", \"tanh\"],\n",
    "    \"solver\": [\"adam\"],\n",
    "    \"learning_rate_init\": [0.001, 0.0005],\n",
    "    \"batch_size\": [128, 256]\n",
    "}\n",
    "\n",
    "mlp = MLPClassifier(max_iter=30, random_state=42, early_stopping=True)\n",
    "\n",
    "grid = GridSearchCV(\n",
    "    estimator=mlp,\n",
    "    param_grid=param_grid,\n",
    "    cv=3,              # cross-validation\n",
    "    scoring=\"accuracy\",\n",
    "    verbose=3,\n",
    "    n_jobs=-1          # استخدام كل الكورز المتاحة\n",
    ")\n",
    "\n",
    "print(\"🚀 Running Grid Search...\")\n",
    "grid.fit(X_tr_flat, y_tr_labels)\n",
    "\n",
    "print(\"✅ Best Params:\", grid.best_params_)\n",
    "print(\"✅ Best CV Score:\", grid.best_score_)\n",
    "\n",
    "# --- 3) ندرّب الموديل الأفضل على كل بيانات التدريب (X_tr + X_val مع بعض) ---\n",
    "X_full = np.concatenate([X_tr_flat, X_val_flat])\n",
    "y_full = np.concatenate([y_tr_labels, y_val_labels])\n",
    "\n",
    "best_mlp = MLPClassifier(**grid.best_params_, max_iter=50, random_state=42, early_stopping=True)\n",
    "best_mlp.fit(X_full, y_full)\n",
    "\n",
    "# --- 4) تجهيز test data بنفس الشكل ---\n",
    "X_test_mlp = X_test.reshape(len(X_test), -1)\n",
    "\n",
    "# التنبؤ\n",
    "y_pred = best_mlp.predict(X_test_mlp)\n",
    "\n",
    "print(\"Shape of predictions:\", y_pred.shape)\n",
    "print(\"First 10 predictions:\", y_pred[:10])\n"
   ]
  },
  {
   "cell_type": "code",
   "execution_count": 26,
   "id": "3c5700f7",
   "metadata": {},
   "outputs": [
    {
     "name": "stderr",
     "output_type": "stream",
     "text": [
      "c:\\Users\\user\\AppData\\Local\\Programs\\Python\\Python312\\Lib\\site-packages\\sklearn\\neural_network\\_multilayer_perceptron.py:691: ConvergenceWarning: Stochastic Optimizer: Maximum iterations (30) reached and the optimization hasn't converged yet.\n",
      "  warnings.warn(\n"
     ]
    },
    {
     "data": {
      "image/png": "[encoded data removed]",
      "text/plain": [
       "<Figure size 600x400 with 1 Axes>"
      ]
     },
     "metadata": {},
     "output_type": "display_data"
    }
   ],
   "source": [
    "import matplotlib.pyplot as plt\n",
    "\n",
    "# --- دقة الموديل القديم (قبل Grid Search) ---\n",
    "mlp_old = MLPClassifier(hidden_layer_sizes=(128, 64), max_iter=30, random_state=42, early_stopping=True)\n",
    "mlp_old.fit(X_tr_flat, y_tr_labels)\n",
    "old_acc = mlp_old.score(X_val_flat, y_val_labels)\n",
    "\n",
    "# --- دقة الموديل الأفضل (بعد Grid Search) ---\n",
    "new_acc = best_mlp.score(X_val_flat, y_val_labels)\n",
    "\n",
    "# --- نرسم المقارنة ---\n",
    "plt.figure(figsize=(6,4))\n",
    "plt.bar([\"Old MLP\", \"Best MLP (GridSearch)\"], [old_acc, new_acc], color=[\"gray\", \"blue\"])\n",
    "plt.ylabel(\"Accuracy\")\n",
    "plt.title(\"Comparison of Old vs Best MLP Accuracy\")\n",
    "plt.ylim(0, 1)\n",
    "\n",
    "for i, acc in enumerate([old_acc, new_acc]):\n",
    "    plt.text(i, acc + 0.01, f\"{acc:.4f}\", ha='center', fontsize=10)\n",
    "\n",
    "plt.show()\n"
   ]
  },
  {
   "cell_type": "code",
   "execution_count": 2,
   "id": "49622812",
   "metadata": {},
   "outputs": [
    {
     "name": "stdout",
     "output_type": "stream",
     "text": [
      "✅ ملف mlp_submission.csv اتخزن على Desktop هنا:\n",
      "C:\\Users\\user\\Desktop\\mlp_submission.csv\n"
     ]
    }
   ],
   "source": [
    "import pandas as pd\n",
    "import os\n",
    "\n",
    "# نعمل DataFrame بالنتائج\n",
    "submission = pd.DataFrame({\n",
    "    \"ImageId\": range(1, len(y_pred) + 1),\n",
    "    \"Label\": y_pred\n",
    "})\n",
    "\n",
    "# مسار الديسكتوب + اسم الملف\n",
    "desktop_path = os.path.join(os.path.expanduser(\"~\"), \"Desktop\", \"mlp_submission.csv\")\n",
    "\n",
    "# نحفظ الملف\n",
    "submission.to_csv(desktop_path, index=False)\n",
    "\n",
    "print(f\"✅ ملف mlp_submission.csv اتخزن على Desktop هنا:\\n{desktop_path}\")\n"
   ]
  },
  {
   "cell_type": "code",
   "execution_count": 1,
   "id": "9db7f432",
   "metadata": {},
   "outputs": [
    {
     "name": "stderr",
     "output_type": "stream",
     "text": [
      "c:\\Users\\user\\AppData\\Local\\Programs\\Python\\Python312\\Lib\\site-packages\\xgboost\\training.py:183: UserWarning: [22:37:38] WARNING: C:\\actions-runner\\_work\\xgboost\\xgboost\\src\\learner.cc:738: \n",
      "Parameters: { \"use_label_encoder\" } are not used.\n",
      "\n",
      "  bst.update(dtrain, iteration=i, fobj=obj)\n"
     ]
    },
    {
     "name": "stdout",
     "output_type": "stream",
     "text": [
      "✅ Best Ensemble Model: VotingClassifier(estimators=[('rf', RandomForestClassifier(random_state=42)),\n",
      "                             ('xgb',\n",
      "                              XGBClassifier(base_score=None, booster=None,\n",
      "                                            callbacks=None,\n",
      "                                            colsample_bylevel=None,\n",
      "                                            colsample_bynode=None,\n",
      "                                            colsample_bytree=None, device=None,\n",
      "                                            early_stopping_rounds=None,\n",
      "                                            enable_categorical=False,\n",
      "                                            eval_metric='logloss',\n",
      "                                            feature_types=None,\n",
      "                                            feature_weights=None, gamma=None,\n",
      "                                            grow_...\n",
      "                                            interaction_constraints=None,\n",
      "                                            learning_rate=None, max_bin=None,\n",
      "                                            max_cat_threshold=None,\n",
      "                                            max_cat_to_onehot=None,\n",
      "                                            max_delta_step=None, max_depth=3,\n",
      "                                            max_leaves=None,\n",
      "                                            min_child_weight=None, missing=nan,\n",
      "                                            monotone_constraints=None,\n",
      "                                            multi_strategy=None,\n",
      "                                            n_estimators=100, n_jobs=None,\n",
      "                                            num_parallel_tree=None, ...)),\n",
      "                             ('mlp',\n",
      "                              MLPClassifier(max_iter=500, random_state=42))],\n",
      "                 voting='soft')\n",
      "📌 Best Parameters: {'mlp__alpha': 0.0001, 'mlp__hidden_layer_sizes': (100,), 'rf__max_depth': None, 'rf__n_estimators': 100, 'xgb__max_depth': 3, 'xgb__n_estimators': 100}\n",
      "🎯 Test Accuracy: 0.9649122807017544\n"
     ]
    },
    {
     "name": "stderr",
     "output_type": "stream",
     "text": [
      "c:\\Users\\user\\AppData\\Local\\Programs\\Python\\Python312\\Lib\\site-packages\\xgboost\\training.py:183: UserWarning: [22:37:41] WARNING: C:\\actions-runner\\_work\\xgboost\\xgboost\\src\\learner.cc:738: \n",
      "Parameters: { \"use_label_encoder\" } are not used.\n",
      "\n",
      "  bst.update(dtrain, iteration=i, fobj=obj)\n",
      "c:\\Users\\user\\AppData\\Local\\Programs\\Python\\Python312\\Lib\\site-packages\\xgboost\\training.py:183: UserWarning: [22:37:45] WARNING: C:\\actions-runner\\_work\\xgboost\\xgboost\\src\\learner.cc:738: \n",
      "Parameters: { \"use_label_encoder\" } are not used.\n",
      "\n",
      "  bst.update(dtrain, iteration=i, fobj=obj)\n",
      "c:\\Users\\user\\AppData\\Local\\Programs\\Python\\Python312\\Lib\\site-packages\\xgboost\\training.py:183: UserWarning: [22:37:46] WARNING: C:\\actions-runner\\_work\\xgboost\\xgboost\\src\\learner.cc:738: \n",
      "Parameters: { \"use_label_encoder\" } are not used.\n",
      "\n",
      "  bst.update(dtrain, iteration=i, fobj=obj)\n"
     ]
    },
    {
     "name": "stdout",
     "output_type": "stream",
     "text": [
      "🎯 Stacking Accuracy: 0.956140350877193\n"
     ]
    },
    {
     "name": "stderr",
     "output_type": "stream",
     "text": [
      "c:\\Users\\user\\AppData\\Local\\Programs\\Python\\Python312\\Lib\\site-packages\\sklearn\\linear_model\\_logistic.py:469: ConvergenceWarning: lbfgs failed to converge (status=1):\n",
      "STOP: TOTAL NO. of ITERATIONS REACHED LIMIT.\n",
      "\n",
      "Increase the number of iterations (max_iter) or scale the data as shown in:\n",
      "    https://scikit-learn.org/stable/modules/preprocessing.html\n",
      "Please also refer to the documentation for alternative solver options:\n",
      "    https://scikit-learn.org/stable/modules/linear_model.html#logistic-regression\n",
      "  n_iter_i = _check_optimize_result(\n"
     ]
    }
   ],
   "source": [
    "import numpy as np\n",
    "import pandas as pd\n",
    "\n",
    "from sklearn.model_selection import train_test_split, GridSearchCV\n",
    "from sklearn.metrics import accuracy_score\n",
    "from sklearn.ensemble import RandomForestClassifier, VotingClassifier, StackingClassifier\n",
    "from xgboost import XGBClassifier\n",
    "from sklearn.neural_network import MLPClassifier\n",
    "\n",
    "# بيانات تجريبية (انت بدّلها ببياناتك)\n",
    "from sklearn.datasets import load_breast_cancer\n",
    "X, y = load_breast_cancer(return_X_y=True)\n",
    "\n",
    "# Split\n",
    "X_train, X_test, y_train, y_test = train_test_split(X, y, test_size=0.2, random_state=42, stratify=y)\n",
    "\n",
    "# -------------------------------------------------------\n",
    "# 1️⃣ تعريف الموديلات الأساسية\n",
    "rf = RandomForestClassifier(random_state=42)\n",
    "xgb = XGBClassifier(eval_metric=\"logloss\", use_label_encoder=False, random_state=42)\n",
    "mlp = MLPClassifier(max_iter=500, random_state=42)\n",
    "\n",
    "# -------------------------------------------------------\n",
    "# 2️⃣ Voting Classifier\n",
    "voting = VotingClassifier(\n",
    "    estimators=[\n",
    "        ('rf', rf),\n",
    "        ('xgb', xgb),\n",
    "        ('mlp', mlp)\n",
    "    ],\n",
    "    voting='soft'   # soft أفضل مع احتمالات\n",
    ")\n",
    "\n",
    "# -------------------------------------------------------\n",
    "# 3️⃣ Stacking Classifier (meta-model = LogisticRegression)\n",
    "from sklearn.linear_model import LogisticRegression\n",
    "stacking = StackingClassifier(\n",
    "    estimators=[\n",
    "        ('rf', rf),\n",
    "        ('xgb', xgb),\n",
    "        ('mlp', mlp)\n",
    "    ],\n",
    "    final_estimator=LogisticRegression(max_iter=1000),\n",
    "    passthrough=True\n",
    ")\n",
    "\n",
    "# -------------------------------------------------------\n",
    "# 4️⃣ Grid Search لأفضل باراميترز لكل موديل\n",
    "param_grid = {\n",
    "    'rf__n_estimators': [100, 200],\n",
    "    'rf__max_depth': [None, 10],\n",
    "    'xgb__n_estimators': [100, 200],\n",
    "    'xgb__max_depth': [3, 5],\n",
    "    'mlp__hidden_layer_sizes': [(50,), (100,)],\n",
    "    'mlp__alpha': [0.0001, 0.001]\n",
    "}\n",
    "\n",
    "grid = GridSearchCV(voting, param_grid, cv=3, n_jobs=-1, scoring='accuracy')\n",
    "grid.fit(X_train, y_train)\n",
    "\n",
    "best_model = grid.best_estimator_\n",
    "best_params = grid.best_params_\n",
    "\n",
    "# -------------------------------------------------------\n",
    "# 5️⃣ تقييم الأداء\n",
    "y_pred = best_model.predict(X_test)\n",
    "acc = accuracy_score(y_test, y_pred)\n",
    "\n",
    "print(\"✅ Best Ensemble Model:\", best_model)\n",
    "print(\"📌 Best Parameters:\", best_params)\n",
    "print(\"🎯 Test Accuracy:\", acc)\n",
    "\n",
    "# -------------------------------------------------------\n",
    "# 6️⃣ كمان نجرّب Stacking\n",
    "stacking.fit(X_train, y_train)\n",
    "y_pred_stack = stacking.predict(X_test)\n",
    "acc_stack = accuracy_score(y_test, y_pred_stack)\n",
    "print(\"🎯 Stacking Accuracy:\", acc_stack)\n"
   ]
  }
 ],
 "metadata": {
  "kernelspec": {
   "display_name": "Python 3",
   "language": "python",
   "name": "python3"
  },
  "language_info": {
   "codemirror_mode": {
    "name": "ipython",
    "version": 3
   },
   "file_extension": ".py",
   "mimetype": "text/x-python",
   "name": "python",
   "nbconvert_exporter": "python",
   "pygments_lexer": "ipython3",
   "version": "3.12.3"
  }
 },
 "nbformat": 4,
 "nbformat_minor": 5
}
